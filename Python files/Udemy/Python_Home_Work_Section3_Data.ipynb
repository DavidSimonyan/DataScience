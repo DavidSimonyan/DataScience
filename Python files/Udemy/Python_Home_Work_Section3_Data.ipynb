{
 "cells": [
  {
   "cell_type": "code",
   "execution_count": 2,
   "metadata": {
    "collapsed": true
   },
   "outputs": [],
   "source": [
    "#Data \n",
    "revenue = [14574.49, 7606.46, 8611.41, 9175.41, 8058.65, 8105.44, 11496.28, 9766.09, 10305.32, 14379.96, 10713.97, 15433.50]\n",
    "expenses = [12051.82, 5695.07, 12319.20, 12089.72, 8658.57, 840.20, 3285.73, 5821.12, 6976.93, 16618.61, 10054.37, 3803.96]"
   ]
  },
  {
   "cell_type": "code",
   "execution_count": 7,
   "metadata": {},
   "outputs": [],
   "source": [
    "Profit = []\n",
    "ProfitAfterTax = []\n",
    "ProfitMarginForEachMonth = []\n",
    "\n",
    "MonthsCount = min(len(revenue), len(expenses))"
   ]
  },
  {
   "cell_type": "code",
   "execution_count": 8,
   "metadata": {
    "collapsed": true
   },
   "outputs": [],
   "source": [
    "for Index in range(MonthsCount):\n",
    "    Profit.append(revenue[Index] - expenses[Index])\n",
    "\n",
    "for Index in range(MonthsCount):\n",
    "    ProfitAfterTax.append((revenue[Index] - expenses[Index]) * 0.7) \n",
    "\n",
    "for Index in range(MonthsCount):\n",
    "    ProfitMarginForEachMonth.append(ProfitAfterTax[Index] / revenue[Index]) \n"
   ]
  },
  {
   "cell_type": "code",
   "execution_count": 9,
   "metadata": {},
   "outputs": [
    {
     "name": "stdout",
     "output_type": "stream",
     "text": [
      "[2522.67, 1911.3900000000003, -3707.790000000001, -2914.3099999999995, -599.9200000000001, 7265.24, 8210.550000000001, 3944.9700000000003, 3328.3899999999994, -2238.6500000000015, 659.5999999999985, 11629.54]\n",
      "[1765.869, 1337.9730000000002, -2595.4530000000004, -2040.0169999999996, -419.944, 5085.668, 5747.385, 2761.479, 2329.8729999999996, -1567.055000000001, 461.71999999999895, 8140.678]\n",
      "[0.12116163241389578, 0.1758995643176984, -0.3013969837692086, -0.2223352416949215, -0.05211096151340486, 0.6274388558795081, 0.49993432658216397, 0.2827619856052934, 0.2260844884001661, -0.10897492065346503, 0.04309513653668985, 0.5274680403019406]\n"
     ]
    }
   ],
   "source": [
    "print(Profit)\n",
    "print(ProfitAfterTax)\n",
    "print(ProfitMarginForEachMonth)"
   ]
  },
  {
   "cell_type": "code",
   "execution_count": 10,
   "metadata": {},
   "outputs": [
    {
     "name": "stdout",
     "output_type": "stream",
     "text": [
      "1750.6813333333332\n"
     ]
    }
   ],
   "source": [
    "AnnualProfitAfterTax = 0\n",
    "\n",
    "for Index in range(MonthsCount):\n",
    "    AnnualProfitAfterTax += ProfitAfterTax[Index]\n",
    "\n",
    "MeanForTheYear = AnnualProfitAfterTax / MonthsCount\n",
    "\n",
    "print(MeanForTheYear)"
   ]
  },
  {
   "cell_type": "code",
   "execution_count": 13,
   "metadata": {},
   "outputs": [],
   "source": [
    "GoodMonths = []\n",
    "\n",
    "for Index in range(MonthsCount):\n",
    "   GoodMonths.append(ProfitAfterTax[Index] > MeanForTheYear)"
   ]
  },
  {
   "cell_type": "code",
   "execution_count": 14,
   "metadata": {},
   "outputs": [
    {
     "name": "stdout",
     "output_type": "stream",
     "text": [
      "[True, False, False, False, False, True, True, True, True, False, False, True]\n"
     ]
    }
   ],
   "source": [
    "print(GoodMonths)"
   ]
  },
  {
   "cell_type": "code",
   "execution_count": 15,
   "metadata": {
    "collapsed": true
   },
   "outputs": [],
   "source": [
    "BadMonths = []\n",
    "\n",
    "for Index in range(MonthsCount):\n",
    "   BadMonths.append(ProfitAfterTax[Index] < MeanForTheYear)"
   ]
  },
  {
   "cell_type": "code",
   "execution_count": 16,
   "metadata": {},
   "outputs": [
    {
     "name": "stdout",
     "output_type": "stream",
     "text": [
      "[False, True, True, True, True, False, False, False, False, True, True, False]\n"
     ]
    }
   ],
   "source": [
    "print(BadMonths)"
   ]
  },
  {
   "cell_type": "code",
   "execution_count": 19,
   "metadata": {},
   "outputs": [
    {
     "name": "stdout",
     "output_type": "stream",
     "text": [
      "11\n",
      "8140.678\n",
      "2\n",
      "-2595.4530000000004\n"
     ]
    }
   ],
   "source": [
    "BestMonthIndex = 0\n",
    "WorstMonthIndex = 0\n",
    "BestMonthProfit = ProfitAfterTax[0]\n",
    "WorstMonthProfit = ProfitAfterTax[0]\n",
    "\n",
    "for Index in range(1, MonthsCount):\n",
    "    if ProfitAfterTax[Index] > BestMonthProfit:\n",
    "        BestMonthIndex = Index\n",
    "        BestMonthProfit = ProfitAfterTax[Index]\n",
    "    if ProfitAfterTax[Index] < WorstMonthProfit:\n",
    "        WorstMonthIndex = Index\n",
    "        WorstMonthProfit = ProfitAfterTax[Index]\n",
    "\n",
    "print(BestMonthIndex)\n",
    "print(BestMonthProfit)\n",
    "print(WorstMonthIndex)\n",
    "print(WorstMonthProfit)"
   ]
  },
  {
   "cell_type": "code",
   "execution_count": 20,
   "metadata": {},
   "outputs": [
    {
     "name": "stdout",
     "output_type": "stream",
     "text": [
      "[2522.67, 1911.3900000000003, -3707.790000000001, -2914.3099999999995, -599.9200000000001, 7265.24, 8210.550000000001, 3944.9700000000003, 3328.3899999999994, -2238.6500000000015, 659.5999999999985, 11629.54]\n",
      "[1765.869, 1337.9730000000002, -2595.4530000000004, -2040.0169999999996, -419.944, 5085.668, 5747.385, 2761.479, 2329.8729999999996, -1567.055000000001, 461.71999999999895, 8140.678]\n",
      "[0.12116163241389578, 0.1758995643176984, -0.3013969837692086, -0.2223352416949215, -0.05211096151340486, 0.6274388558795081, 0.49993432658216397, 0.2827619856052934, 0.2260844884001661, -0.10897492065346503, 0.04309513653668985, 0.5274680403019406]\n",
      "[True, False, False, False, False, True, True, True, True, False, False, True]\n",
      "[False, True, True, True, True, False, False, False, False, True, True, False]\n",
      "11\n",
      "8140.678\n",
      "2\n",
      "-2595.4530000000004\n"
     ]
    }
   ],
   "source": [
    "print(Profit)\n",
    "print(ProfitAfterTax)\n",
    "print(ProfitMarginForEachMonth)\n",
    "print(GoodMonths)\n",
    "print(BadMonths)\n",
    "print(BestMonthIndex)\n",
    "print(BestMonthProfit)\n",
    "print(WorstMonthIndex)\n",
    "print(WorstMonthProfit)"
   ]
  },
  {
   "cell_type": "code",
   "execution_count": null,
   "metadata": {
    "collapsed": true
   },
   "outputs": [],
   "source": []
  }
 ],
 "metadata": {
  "kernelspec": {
   "display_name": "Python 3",
   "language": "python",
   "name": "python3"
  },
  "language_info": {
   "codemirror_mode": {
    "name": "ipython",
    "version": 3
   },
   "file_extension": ".py",
   "mimetype": "text/x-python",
   "name": "python",
   "nbconvert_exporter": "python",
   "pygments_lexer": "ipython3",
   "version": "3.6.1"
  }
 },
 "nbformat": 4,
 "nbformat_minor": 1
}
