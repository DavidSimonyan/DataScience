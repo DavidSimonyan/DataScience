{
 "cells": [
  {
   "cell_type": "code",
   "execution_count": 1,
   "metadata": {},
   "outputs": [],
   "source": [
    "import tensorflow as tf\n",
    "from tensorflow.python.client import device_lib\n",
    "import pandas as pd\n",
    "from pandas.plotting import register_matplotlib_converters\n",
    "import matplotlib.pyplot as plt"
   ]
  },
  {
   "cell_type": "code",
   "execution_count": 2,
   "metadata": {},
   "outputs": [],
   "source": [
    "def get_available_gpu_list():\n",
    "    local_device_protos = device_lib.list_local_devices()\n",
    "    return [x.name for x in local_device_protos if x.device_type == 'GPU']"
   ]
  },
  {
   "cell_type": "code",
   "execution_count": 3,
   "metadata": {},
   "outputs": [
    {
     "data": {
      "text/plain": [
       "['/device:GPU:0', '/device:GPU:1']"
      ]
     },
     "execution_count": 3,
     "metadata": {},
     "output_type": "execute_result"
    }
   ],
   "source": [
    "get_available_gpu_list()"
   ]
  },
  {
   "cell_type": "code",
   "execution_count": 4,
   "metadata": {},
   "outputs": [],
   "source": [
    "df_usdcad = pd.read_hdf(\"D:/Data/Forex/USDCAD_modified.h5\", key=\"USDCAD_modified\")\n",
    "df_eurusd = pd.read_hdf(\"D:/Data/Forex/EURUSD_modified.h5\", key=\"EURUSD_modified\")"
   ]
  },
  {
   "cell_type": "code",
   "execution_count": 5,
   "metadata": {},
   "outputs": [
    {
     "data": {
      "text/html": [
       "<div>\n",
       "<style scoped>\n",
       "    .dataframe tbody tr th:only-of-type {\n",
       "        vertical-align: middle;\n",
       "    }\n",
       "\n",
       "    .dataframe tbody tr th {\n",
       "        vertical-align: top;\n",
       "    }\n",
       "\n",
       "    .dataframe thead th {\n",
       "        text-align: right;\n",
       "    }\n",
       "</style>\n",
       "<table border=\"1\" class=\"dataframe\">\n",
       "  <thead>\n",
       "    <tr style=\"text-align: right;\">\n",
       "      <th></th>\n",
       "      <th>Open</th>\n",
       "      <th>High</th>\n",
       "      <th>Low</th>\n",
       "      <th>Close</th>\n",
       "      <th>Volume</th>\n",
       "      <th>NumberOfTrades</th>\n",
       "      <th>BidVolume</th>\n",
       "      <th>AskVolume</th>\n",
       "      <th>DateTime</th>\n",
       "    </tr>\n",
       "  </thead>\n",
       "  <tbody>\n",
       "    <tr>\n",
       "      <th>0</th>\n",
       "      <td>1.00261</td>\n",
       "      <td>1.00264</td>\n",
       "      <td>1.00261</td>\n",
       "      <td>1.00264</td>\n",
       "      <td>2</td>\n",
       "      <td>2</td>\n",
       "      <td>0</td>\n",
       "      <td>0</td>\n",
       "      <td>2007-12-03 09:17:13</td>\n",
       "    </tr>\n",
       "    <tr>\n",
       "      <th>1</th>\n",
       "      <td>1.00258</td>\n",
       "      <td>1.00258</td>\n",
       "      <td>1.00249</td>\n",
       "      <td>1.00250</td>\n",
       "      <td>3</td>\n",
       "      <td>3</td>\n",
       "      <td>0</td>\n",
       "      <td>0</td>\n",
       "      <td>2007-12-03 09:17:21</td>\n",
       "    </tr>\n",
       "    <tr>\n",
       "      <th>2</th>\n",
       "      <td>1.00264</td>\n",
       "      <td>1.00264</td>\n",
       "      <td>1.00251</td>\n",
       "      <td>1.00251</td>\n",
       "      <td>3</td>\n",
       "      <td>3</td>\n",
       "      <td>0</td>\n",
       "      <td>0</td>\n",
       "      <td>2007-12-03 09:17:24</td>\n",
       "    </tr>\n",
       "    <tr>\n",
       "      <th>3</th>\n",
       "      <td>1.00250</td>\n",
       "      <td>1.00264</td>\n",
       "      <td>1.00250</td>\n",
       "      <td>1.00264</td>\n",
       "      <td>5</td>\n",
       "      <td>5</td>\n",
       "      <td>0</td>\n",
       "      <td>0</td>\n",
       "      <td>2007-12-03 09:17:28</td>\n",
       "    </tr>\n",
       "    <tr>\n",
       "      <th>4</th>\n",
       "      <td>1.00267</td>\n",
       "      <td>1.00267</td>\n",
       "      <td>1.00267</td>\n",
       "      <td>1.00267</td>\n",
       "      <td>1</td>\n",
       "      <td>1</td>\n",
       "      <td>0</td>\n",
       "      <td>0</td>\n",
       "      <td>2007-12-03 09:17:35</td>\n",
       "    </tr>\n",
       "  </tbody>\n",
       "</table>\n",
       "</div>"
      ],
      "text/plain": [
       "      Open     High      Low    Close  Volume  NumberOfTrades  BidVolume  \\\n",
       "0  1.00261  1.00264  1.00261  1.00264       2               2          0   \n",
       "1  1.00258  1.00258  1.00249  1.00250       3               3          0   \n",
       "2  1.00264  1.00264  1.00251  1.00251       3               3          0   \n",
       "3  1.00250  1.00264  1.00250  1.00264       5               5          0   \n",
       "4  1.00267  1.00267  1.00267  1.00267       1               1          0   \n",
       "\n",
       "   AskVolume            DateTime  \n",
       "0          0 2007-12-03 09:17:13  \n",
       "1          0 2007-12-03 09:17:21  \n",
       "2          0 2007-12-03 09:17:24  \n",
       "3          0 2007-12-03 09:17:28  \n",
       "4          0 2007-12-03 09:17:35  "
      ]
     },
     "execution_count": 5,
     "metadata": {},
     "output_type": "execute_result"
    }
   ],
   "source": [
    "df_usdcad.head()"
   ]
  },
  {
   "cell_type": "code",
   "execution_count": 6,
   "metadata": {},
   "outputs": [
    {
     "data": {
      "text/html": [
       "<div>\n",
       "<style scoped>\n",
       "    .dataframe tbody tr th:only-of-type {\n",
       "        vertical-align: middle;\n",
       "    }\n",
       "\n",
       "    .dataframe tbody tr th {\n",
       "        vertical-align: top;\n",
       "    }\n",
       "\n",
       "    .dataframe thead th {\n",
       "        text-align: right;\n",
       "    }\n",
       "</style>\n",
       "<table border=\"1\" class=\"dataframe\">\n",
       "  <thead>\n",
       "    <tr style=\"text-align: right;\">\n",
       "      <th></th>\n",
       "      <th>Open</th>\n",
       "      <th>High</th>\n",
       "      <th>Low</th>\n",
       "      <th>Close</th>\n",
       "      <th>Volume</th>\n",
       "      <th>NumberOfTrades</th>\n",
       "      <th>BidVolume</th>\n",
       "      <th>AskVolume</th>\n",
       "      <th>DateTime</th>\n",
       "    </tr>\n",
       "  </thead>\n",
       "  <tbody>\n",
       "    <tr>\n",
       "      <th>0</th>\n",
       "      <td>1.46351</td>\n",
       "      <td>1.46354</td>\n",
       "      <td>1.46351</td>\n",
       "      <td>1.46354</td>\n",
       "      <td>2</td>\n",
       "      <td>2</td>\n",
       "      <td>0</td>\n",
       "      <td>0</td>\n",
       "      <td>2007-12-03 09:16:54</td>\n",
       "    </tr>\n",
       "    <tr>\n",
       "      <th>1</th>\n",
       "      <td>1.46351</td>\n",
       "      <td>1.46351</td>\n",
       "      <td>1.46347</td>\n",
       "      <td>1.46347</td>\n",
       "      <td>3</td>\n",
       "      <td>3</td>\n",
       "      <td>0</td>\n",
       "      <td>0</td>\n",
       "      <td>2007-12-03 09:16:56</td>\n",
       "    </tr>\n",
       "    <tr>\n",
       "      <th>2</th>\n",
       "      <td>1.46354</td>\n",
       "      <td>1.46354</td>\n",
       "      <td>1.46354</td>\n",
       "      <td>1.46354</td>\n",
       "      <td>1</td>\n",
       "      <td>1</td>\n",
       "      <td>0</td>\n",
       "      <td>0</td>\n",
       "      <td>2007-12-03 09:17:01</td>\n",
       "    </tr>\n",
       "    <tr>\n",
       "      <th>3</th>\n",
       "      <td>1.46346</td>\n",
       "      <td>1.46347</td>\n",
       "      <td>1.46344</td>\n",
       "      <td>1.46344</td>\n",
       "      <td>3</td>\n",
       "      <td>3</td>\n",
       "      <td>0</td>\n",
       "      <td>0</td>\n",
       "      <td>2007-12-03 09:17:04</td>\n",
       "    </tr>\n",
       "    <tr>\n",
       "      <th>4</th>\n",
       "      <td>1.46347</td>\n",
       "      <td>1.46347</td>\n",
       "      <td>1.46338</td>\n",
       "      <td>1.46344</td>\n",
       "      <td>5</td>\n",
       "      <td>5</td>\n",
       "      <td>0</td>\n",
       "      <td>0</td>\n",
       "      <td>2007-12-03 09:17:08</td>\n",
       "    </tr>\n",
       "  </tbody>\n",
       "</table>\n",
       "</div>"
      ],
      "text/plain": [
       "      Open     High      Low    Close  Volume  NumberOfTrades  BidVolume  \\\n",
       "0  1.46351  1.46354  1.46351  1.46354       2               2          0   \n",
       "1  1.46351  1.46351  1.46347  1.46347       3               3          0   \n",
       "2  1.46354  1.46354  1.46354  1.46354       1               1          0   \n",
       "3  1.46346  1.46347  1.46344  1.46344       3               3          0   \n",
       "4  1.46347  1.46347  1.46338  1.46344       5               5          0   \n",
       "\n",
       "   AskVolume            DateTime  \n",
       "0          0 2007-12-03 09:16:54  \n",
       "1          0 2007-12-03 09:16:56  \n",
       "2          0 2007-12-03 09:17:01  \n",
       "3          0 2007-12-03 09:17:04  \n",
       "4          0 2007-12-03 09:17:08  "
      ]
     },
     "execution_count": 6,
     "metadata": {},
     "output_type": "execute_result"
    }
   ],
   "source": [
    "df_eurusd.head()"
   ]
  },
  {
   "cell_type": "code",
   "execution_count": 7,
   "metadata": {},
   "outputs": [
    {
     "name": "stdout",
     "output_type": "stream",
     "text": [
      "<class 'pandas.core.frame.DataFrame'>\n",
      "Int64Index: 72274072 entries, 0 to 72274071\n",
      "Data columns (total 9 columns):\n",
      "Open              float32\n",
      "High              float32\n",
      "Low               float32\n",
      "Close             float32\n",
      "Volume            int32\n",
      "NumberOfTrades    int32\n",
      "BidVolume         int32\n",
      "AskVolume         int32\n",
      "DateTime          datetime64[ns]\n",
      "dtypes: datetime64[ns](1), float32(4), int32(4)\n",
      "memory usage: 3.2 GB\n",
      "None\n",
      "<class 'pandas.core.frame.DataFrame'>\n",
      "Int64Index: 82332324 entries, 0 to 82332323\n",
      "Data columns (total 9 columns):\n",
      "Open              float32\n",
      "High              float32\n",
      "Low               float32\n",
      "Close             float32\n",
      "Volume            int32\n",
      "NumberOfTrades    int32\n",
      "BidVolume         int32\n",
      "AskVolume         int32\n",
      "DateTime          datetime64[ns]\n",
      "dtypes: datetime64[ns](1), float32(4), int32(4)\n",
      "memory usage: 3.7 GB\n",
      "None\n"
     ]
    }
   ],
   "source": [
    "print(df_usdcad.info())\n",
    "print(df_eurusd.info())"
   ]
  },
  {
   "cell_type": "code",
   "execution_count": 8,
   "metadata": {},
   "outputs": [],
   "source": [
    "register_matplotlib_converters()"
   ]
  },
  {
   "cell_type": "code",
   "execution_count": 9,
   "metadata": {
    "scrolled": false
   },
   "outputs": [
    {
     "data": {
      "text/plain": [
       "<matplotlib.collections.PathCollection at 0x1df87c42be0>"
      ]
     },
     "execution_count": 9,
     "metadata": {},
     "output_type": "execute_result"
    },
    {
     "data": {
      "image/png": "[encoded data removed]",
      "text/plain": [
       "<Figure size 432x288 with 1 Axes>"
      ]
     },
     "metadata": {
      "needs_background": "light"
     },
     "output_type": "display_data"
    }
   ],
   "source": [
    "plt.scatter(df_usdcad['DateTime'].iloc[::100], df_usdcad['Close'].iloc[::100])"
   ]
  },
  {
   "cell_type": "code",
   "execution_count": 10,
   "metadata": {},
   "outputs": [
    {
     "data": {
      "text/plain": [
       "<matplotlib.collections.PathCollection at 0x1df87c7e668>"
      ]
     },
     "execution_count": 10,
     "metadata": {},
     "output_type": "execute_result"
    },
    {
     "data": {
      "image/png": "[encoded data removed]",
      "text/plain": [
       "<Figure size 432x288 with 1 Axes>"
      ]
     },
     "metadata": {
      "needs_background": "light"
     },
     "output_type": "display_data"
    }
   ],
   "source": [
    "plt.scatter(df_eurusd['DateTime'].iloc[::100], df_eurusd['Close'].iloc[::100])"
   ]
  },
  {
   "cell_type": "code",
   "execution_count": null,
   "metadata": {},
   "outputs": [],
   "source": []
  }
 ],
 "metadata": {
  "kernelspec": {
   "display_name": "Python 3",
   "language": "python",
   "name": "python3"
  },
  "language_info": {
   "codemirror_mode": {
    "name": "ipython",
    "version": 3
   },
   "file_extension": ".py",
   "mimetype": "text/x-python",
   "name": "python",
   "nbconvert_exporter": "python",
   "pygments_lexer": "ipython3",
   "version": "3.6.8"
  }
 },
 "nbformat": 4,
 "nbformat_minor": 2
}
