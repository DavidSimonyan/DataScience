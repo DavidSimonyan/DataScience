{
 "cells": [
  {
   "cell_type": "code",
   "execution_count": 1,
   "metadata": {},
   "outputs": [],
   "source": [
    "import lightgbm\n",
    "import pandas as pd\n",
    "import numpy as np"
   ]
  },
  {
   "cell_type": "code",
   "execution_count": 2,
   "metadata": {},
   "outputs": [],
   "source": [
    "DATA_PATH = r\"../../../../../Data/Elo Merchant Category Recommendation/\""
   ]
  },
  {
   "cell_type": "code",
   "execution_count": 3,
   "metadata": {},
   "outputs": [],
   "source": [
    "train1 = pd.read_csv(DATA_PATH + \"train1.csv\", header = \"infer\", sep = \",\")"
   ]
  },
  {
   "cell_type": "code",
   "execution_count": 4,
   "metadata": {},
   "outputs": [],
   "source": [
    "test1 = pd.read_csv(DATA_PATH + \"test1.csv\", header = \"infer\", sep = \",\")"
   ]
  },
  {
   "cell_type": "code",
   "execution_count": 5,
   "metadata": {},
   "outputs": [],
   "source": [
    "test2 = pd.read_csv(DATA_PATH + \"test2.csv\", header = \"infer\", sep = \",\")"
   ]
  },
  {
   "cell_type": "code",
   "execution_count": 6,
   "metadata": {},
   "outputs": [],
   "source": [
    "test3 = pd.read_csv(DATA_PATH + \"test3.csv\", header = \"infer\", sep = \",\")"
   ]
  },
  {
   "cell_type": "code",
   "execution_count": 7,
   "metadata": {},
   "outputs": [],
   "source": [
    "part = np.random.rand(len(train1))<0.7"
   ]
  },
  {
   "cell_type": "code",
   "execution_count": 8,
   "metadata": {},
   "outputs": [],
   "source": [
    "valid = train1[~part]"
   ]
  },
  {
   "cell_type": "code",
   "execution_count": 9,
   "metadata": {},
   "outputs": [],
   "source": [
    "train = train1[part]"
   ]
  },
  {
   "cell_type": "code",
   "execution_count": 10,
   "metadata": {},
   "outputs": [],
   "source": [
    "train_card_id = train.loc[:,'card_id']\n",
    "valid_card_id = valid.loc[:,'card_id']\n",
    "test_card_id1 = test1.loc[:,'card_id']\n",
    "test_card_id2 = test2.loc[:,'card_id']\n",
    "test_card_id3 = test3.loc[:,'card_id']\n",
    "x_train = train.loc[:,~train.columns.isin(['target','card_id'])]\n",
    "x_valid = valid.loc[:,~valid.columns.isin(['target','card_id'])]\n",
    "x_test1 = test1.loc[:,~test1.columns.isin(['card_id'])]\n",
    "x_test2 = test2.loc[:,~test2.columns.isin(['card_id'])]\n",
    "x_test3 = test3.loc[:,~test3.columns.isin(['card_id'])]\n",
    "y_train = train.loc[:,'target']\n",
    "y_valid = valid.loc[:,'target']"
   ]
  },
  {
   "cell_type": "code",
   "execution_count": 11,
   "metadata": {},
   "outputs": [],
   "source": [
    "lgbm_train = lightgbm.Dataset(x_train,y_train)"
   ]
  },
  {
   "cell_type": "code",
   "execution_count": 12,
   "metadata": {},
   "outputs": [],
   "source": [
    "lgbm_eval = lightgbm.Dataset(x_valid,y_valid)"
   ]
  },
  {
   "cell_type": "code",
   "execution_count": 13,
   "metadata": {},
   "outputs": [],
   "source": [
    "params = {\n",
    "    'boosting_type': 'gbdt',\n",
    "    'objective': 'regression',\n",
    "    'metric': {'l2', 'l1'},\n",
    "    'num_leaves': 31,\n",
    "    'learning_rate': 0.05,\n",
    "    'feature_fraction': 0.9,\n",
    "    'bagging_fraction': 0.8,\n",
    "    'bagging_freq': 5,\n",
    "    'verbose': 2\n",
    "}"
   ]
  },
  {
   "cell_type": "code",
   "execution_count": 14,
   "metadata": {},
   "outputs": [
    {
     "name": "stdout",
     "output_type": "stream",
     "text": [
      "[1]\tvalid_0's l2: 14.9161\tvalid_0's l1: 1.59963\n",
      "Training until validation scores don't improve for 5 rounds.\n",
      "[2]\tvalid_0's l2: 14.9129\tvalid_0's l1: 1.59966\n",
      "[3]\tvalid_0's l2: 14.9066\tvalid_0's l1: 1.59946\n",
      "[4]\tvalid_0's l2: 14.9039\tvalid_0's l1: 1.5996\n",
      "[5]\tvalid_0's l2: 14.8996\tvalid_0's l1: 1.59961\n",
      "[6]\tvalid_0's l2: 14.8948\tvalid_0's l1: 1.59965\n",
      "[7]\tvalid_0's l2: 14.8908\tvalid_0's l1: 1.59982\n",
      "[8]\tvalid_0's l2: 14.8882\tvalid_0's l1: 1.6\n",
      "Early stopping, best iteration is:\n",
      "[3]\tvalid_0's l2: 14.9066\tvalid_0's l1: 1.59946\n"
     ]
    }
   ],
   "source": [
    "gbm = lightgbm.train(params,\n",
    "                lgbm_train,\n",
    "                num_boost_round=20,\n",
    "                valid_sets=lgbm_eval,\n",
    "                early_stopping_rounds=5)"
   ]
  },
  {
   "cell_type": "code",
   "execution_count": 15,
   "metadata": {},
   "outputs": [],
   "source": [
    "y_pred1 = gbm.predict(x_test1,num_iteration=gbm.best_iteration)"
   ]
  },
  {
   "cell_type": "code",
   "execution_count": 16,
   "metadata": {},
   "outputs": [],
   "source": [
    "y_pred2 = gbm.predict(x_test2,num_iteration=gbm.best_iteration)"
   ]
  },
  {
   "cell_type": "code",
   "execution_count": 17,
   "metadata": {},
   "outputs": [],
   "source": [
    "y_pred3 = gbm.predict(x_test3,num_iteration=gbm.best_iteration)"
   ]
  },
  {
   "cell_type": "code",
   "execution_count": 18,
   "metadata": {},
   "outputs": [],
   "source": [
    "result1 = pd.concat([test_card_id1,pd.Series(y_pred1)],axis = 1,keys = [\"card_id\",\"target\"])"
   ]
  },
  {
   "cell_type": "code",
   "execution_count": 19,
   "metadata": {},
   "outputs": [],
   "source": [
    "result2 = pd.concat([test_card_id2,pd.Series(y_pred2)],axis = 1,keys = [\"card_id\",\"target\"])"
   ]
  },
  {
   "cell_type": "code",
   "execution_count": 20,
   "metadata": {},
   "outputs": [],
   "source": [
    "result3 = pd.concat([test_card_id3,pd.Series(y_pred3)],axis = 1,keys = [\"card_id\",\"target\"])"
   ]
  },
  {
   "cell_type": "code",
   "execution_count": 21,
   "metadata": {},
   "outputs": [],
   "source": [
    "result1.to_csv(DATA_PATH + 'result1.csv', header='infer', sep=',', index=False) #3.929 place - 398"
   ]
  },
  {
   "cell_type": "code",
   "execution_count": 22,
   "metadata": {},
   "outputs": [],
   "source": [
    "result2.to_csv(DATA_PATH + 'result2.csv', header='infer', sep=',', index=False) #3.929 place - 398"
   ]
  },
  {
   "cell_type": "code",
   "execution_count": 23,
   "metadata": {},
   "outputs": [],
   "source": [
    "result3.to_csv(DATA_PATH + 'result3.csv', header='infer', sep=',', index=False) #3.929 place - 398"
   ]
  },
  {
   "cell_type": "code",
   "execution_count": null,
   "metadata": {},
   "outputs": [],
   "source": []
  }
 ],
 "metadata": {
  "kernelspec": {
   "display_name": "Python 3",
   "language": "python",
   "name": "python3"
  },
  "language_info": {
   "codemirror_mode": {
    "name": "ipython",
    "version": 3
   },
   "file_extension": ".py",
   "mimetype": "text/x-python",
   "name": "python",
   "nbconvert_exporter": "python",
   "pygments_lexer": "ipython3",
   "version": "3.6.5"
  }
 },
 "nbformat": 4,
 "nbformat_minor": 2
}
