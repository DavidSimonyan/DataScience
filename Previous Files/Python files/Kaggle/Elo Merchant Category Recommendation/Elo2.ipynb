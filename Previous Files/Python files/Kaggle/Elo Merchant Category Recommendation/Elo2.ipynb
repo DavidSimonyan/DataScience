{
 "cells": [
  {
   "cell_type": "code",
   "execution_count": 1,
   "metadata": {},
   "outputs": [],
   "source": [
    "import pandas as pd\n",
    "import numpy as ap\n",
    "import lightgbm as lg\n",
    "import re"
   ]
  },
  {
   "cell_type": "code",
   "execution_count": 2,
   "metadata": {},
   "outputs": [],
   "source": [
    "DATA_PATH = r\"../../../../../Data/Elo Merchant Category Recommendation/\""
   ]
  },
  {
   "cell_type": "code",
   "execution_count": 3,
   "metadata": {},
   "outputs": [],
   "source": [
    "train = pd.read_csv(DATA_PATH + r\"train.csv\")\n",
    "#(201917, 6)\n",
    "#'first_active_month', 'card_id', 'feature_1', 'feature_2', 'feature_3', 'target'"
   ]
  },
  {
   "cell_type": "code",
   "execution_count": 4,
   "metadata": {},
   "outputs": [],
   "source": [
    "test = pd.read_csv(DATA_PATH+r\"test.csv\")\n",
    "#(123623, 5)\n",
    "#'first_active_month', 'card_id', 'feature_1', 'feature_2', 'feature_3'"
   ]
  },
  {
   "cell_type": "code",
   "execution_count": 5,
   "metadata": {},
   "outputs": [],
   "source": [
    "merchants = pd.read_csv(DATA_PATH+r\"merchants.csv\")\n",
    "#(334696, 22)\n",
    "#'merchant_id', 'merchant_group_id', 'merchant_category_id', 'subsector_id', 'numerical_1',\n",
    "#'numerical_2', 'category_1','most_recent_sales_range', 'most_recent_purchases_range',\n",
    "#'avg_sales_lag3', 'avg_purchases_lag3', 'active_months_lag3','avg_sales_lag6', \n",
    "#'avg_purchases_lag6', 'active_months_lag6','avg_sales_lag12', 'avg_purchases_lag12',\n",
    "#'active_months_lag12','category_4', 'city_id', 'state_id', 'category_2'"
   ]
  },
  {
   "cell_type": "code",
   "execution_count": 6,
   "metadata": {},
   "outputs": [],
   "source": [
    "new_merchant = pd.read_csv(DATA_PATH+r\"new_merchant_transactions.csv\")\n",
    "#(1963031, 14)\n",
    "#'authorized_flag', 'card_id', 'city_id', 'category_1', 'installments',\n",
    "#'category_3', 'merchant_category_id', 'merchant_id', 'month_lag',\n",
    "#'purchase_amount', 'purchase_date', 'category_2', 'state_id','subsector_id'\n"
   ]
  },
  {
   "cell_type": "code",
   "execution_count": 7,
   "metadata": {},
   "outputs": [],
   "source": [
    "hist = pd.read_csv(DATA_PATH+r\"historical_transactions.csv\")\n",
    "#(29112361, 14)\n",
    "#'authorized_flag', 'card_id', 'city_id', 'category_1', 'installments',\n",
    "#'category_3', 'merchant_category_id', 'merchant_id', 'month_lag',\n",
    "#'purchase_amount', 'purchase_date', 'category_2', 'state_id','subsector_id'"
   ]
  },
  {
   "cell_type": "markdown",
   "metadata": {},
   "source": [
    "**train,test**<br>\n",
    "1. Convert 'first_active_month' column to \"first_month\",\"first_year\",\"first_season\"\n",
    "+ Drop 'first_active_month'\n",
    "+ Save to train_m.csv"
   ]
  },
  {
   "cell_type": "code",
   "execution_count": 8,
   "metadata": {},
   "outputs": [
    {
     "data": {
      "text/plain": [
       "0         <class 'str'>\n",
       "1         <class 'str'>\n",
       "2         <class 'str'>\n",
       "3         <class 'str'>\n",
       "4         <class 'str'>\n",
       "5         <class 'str'>\n",
       "6         <class 'str'>\n",
       "7         <class 'str'>\n",
       "8         <class 'str'>\n",
       "9         <class 'str'>\n",
       "10        <class 'str'>\n",
       "11        <class 'str'>\n",
       "12        <class 'str'>\n",
       "13        <class 'str'>\n",
       "14        <class 'str'>\n",
       "15        <class 'str'>\n",
       "16        <class 'str'>\n",
       "17        <class 'str'>\n",
       "18        <class 'str'>\n",
       "19        <class 'str'>\n",
       "20        <class 'str'>\n",
       "21        <class 'str'>\n",
       "22        <class 'str'>\n",
       "23        <class 'str'>\n",
       "24        <class 'str'>\n",
       "25        <class 'str'>\n",
       "26        <class 'str'>\n",
       "27        <class 'str'>\n",
       "28        <class 'str'>\n",
       "29        <class 'str'>\n",
       "              ...      \n",
       "123593    <class 'str'>\n",
       "123594    <class 'str'>\n",
       "123595    <class 'str'>\n",
       "123596    <class 'str'>\n",
       "123597    <class 'str'>\n",
       "123598    <class 'str'>\n",
       "123599    <class 'str'>\n",
       "123600    <class 'str'>\n",
       "123601    <class 'str'>\n",
       "123602    <class 'str'>\n",
       "123603    <class 'str'>\n",
       "123604    <class 'str'>\n",
       "123605    <class 'str'>\n",
       "123606    <class 'str'>\n",
       "123607    <class 'str'>\n",
       "123608    <class 'str'>\n",
       "123609    <class 'str'>\n",
       "123610    <class 'str'>\n",
       "123611    <class 'str'>\n",
       "123612    <class 'str'>\n",
       "123613    <class 'str'>\n",
       "123614    <class 'str'>\n",
       "123615    <class 'str'>\n",
       "123616    <class 'str'>\n",
       "123617    <class 'str'>\n",
       "123618    <class 'str'>\n",
       "123619    <class 'str'>\n",
       "123620    <class 'str'>\n",
       "123621    <class 'str'>\n",
       "123622    <class 'str'>\n",
       "Name: first_active_month, Length: 123623, dtype: object"
      ]
     },
     "execution_count": 8,
     "metadata": {},
     "output_type": "execute_result"
    }
   ],
   "source": [
    "test.loc[:,'first_active_month'].apply(type)"
   ]
  },
  {
   "cell_type": "code",
   "execution_count": 9,
   "metadata": {},
   "outputs": [],
   "source": [
    "train[\"first_month\"] = train.loc[:,'first_active_month'].apply(lambda x: int(x.split(\"-\")[1]))"
   ]
  },
  {
   "cell_type": "code",
   "execution_count": 11,
   "metadata": {},
   "outputs": [
    {
     "ename": "AttributeError",
     "evalue": "'float' object has no attribute 'split'",
     "output_type": "error",
     "traceback": [
      "\u001b[1;31m---------------------------------------------------------------------------\u001b[0m",
      "\u001b[1;31mAttributeError\u001b[0m                            Traceback (most recent call last)",
      "\u001b[1;32m<ipython-input-11-ef1e723fc872>\u001b[0m in \u001b[0;36m<module>\u001b[1;34m()\u001b[0m\n\u001b[1;32m----> 1\u001b[1;33m \u001b[0mtest\u001b[0m\u001b[1;33m[\u001b[0m\u001b[1;34m\"first_month\"\u001b[0m\u001b[1;33m]\u001b[0m \u001b[1;33m=\u001b[0m \u001b[0mtest\u001b[0m\u001b[1;33m.\u001b[0m\u001b[0mloc\u001b[0m\u001b[1;33m[\u001b[0m\u001b[1;33m:\u001b[0m\u001b[1;33m,\u001b[0m\u001b[1;34m'first_active_month'\u001b[0m\u001b[1;33m]\u001b[0m\u001b[1;33m.\u001b[0m\u001b[0mapply\u001b[0m\u001b[1;33m(\u001b[0m\u001b[1;32mlambda\u001b[0m \u001b[0mx\u001b[0m\u001b[1;33m:\u001b[0m \u001b[0mint\u001b[0m\u001b[1;33m(\u001b[0m\u001b[0mx\u001b[0m\u001b[1;33m.\u001b[0m\u001b[0msplit\u001b[0m\u001b[1;33m(\u001b[0m\u001b[1;34m\"-\"\u001b[0m\u001b[1;33m)\u001b[0m\u001b[1;33m[\u001b[0m\u001b[1;36m1\u001b[0m\u001b[1;33m]\u001b[0m\u001b[1;33m)\u001b[0m\u001b[1;33m)\u001b[0m\u001b[1;33m\u001b[0m\u001b[0m\n\u001b[0m",
      "\u001b[1;32mC:\\Program Files (x86)\\Microsoft Visual Studio\\Shared\\Anaconda3_64\\lib\\site-packages\\pandas\\core\\series.py\u001b[0m in \u001b[0;36mapply\u001b[1;34m(self, func, convert_dtype, args, **kwds)\u001b[0m\n\u001b[0;32m   3190\u001b[0m             \u001b[1;32melse\u001b[0m\u001b[1;33m:\u001b[0m\u001b[1;33m\u001b[0m\u001b[0m\n\u001b[0;32m   3191\u001b[0m                 \u001b[0mvalues\u001b[0m \u001b[1;33m=\u001b[0m \u001b[0mself\u001b[0m\u001b[1;33m.\u001b[0m\u001b[0mastype\u001b[0m\u001b[1;33m(\u001b[0m\u001b[0mobject\u001b[0m\u001b[1;33m)\u001b[0m\u001b[1;33m.\u001b[0m\u001b[0mvalues\u001b[0m\u001b[1;33m\u001b[0m\u001b[0m\n\u001b[1;32m-> 3192\u001b[1;33m                 \u001b[0mmapped\u001b[0m \u001b[1;33m=\u001b[0m \u001b[0mlib\u001b[0m\u001b[1;33m.\u001b[0m\u001b[0mmap_infer\u001b[0m\u001b[1;33m(\u001b[0m\u001b[0mvalues\u001b[0m\u001b[1;33m,\u001b[0m \u001b[0mf\u001b[0m\u001b[1;33m,\u001b[0m \u001b[0mconvert\u001b[0m\u001b[1;33m=\u001b[0m\u001b[0mconvert_dtype\u001b[0m\u001b[1;33m)\u001b[0m\u001b[1;33m\u001b[0m\u001b[0m\n\u001b[0m\u001b[0;32m   3193\u001b[0m \u001b[1;33m\u001b[0m\u001b[0m\n\u001b[0;32m   3194\u001b[0m         \u001b[1;32mif\u001b[0m \u001b[0mlen\u001b[0m\u001b[1;33m(\u001b[0m\u001b[0mmapped\u001b[0m\u001b[1;33m)\u001b[0m \u001b[1;32mand\u001b[0m \u001b[0misinstance\u001b[0m\u001b[1;33m(\u001b[0m\u001b[0mmapped\u001b[0m\u001b[1;33m[\u001b[0m\u001b[1;36m0\u001b[0m\u001b[1;33m]\u001b[0m\u001b[1;33m,\u001b[0m \u001b[0mSeries\u001b[0m\u001b[1;33m)\u001b[0m\u001b[1;33m:\u001b[0m\u001b[1;33m\u001b[0m\u001b[0m\n",
      "\u001b[1;32mpandas/_libs/src\\inference.pyx\u001b[0m in \u001b[0;36mpandas._libs.lib.map_infer\u001b[1;34m()\u001b[0m\n",
      "\u001b[1;32m<ipython-input-11-ef1e723fc872>\u001b[0m in \u001b[0;36m<lambda>\u001b[1;34m(x)\u001b[0m\n\u001b[1;32m----> 1\u001b[1;33m \u001b[0mtest\u001b[0m\u001b[1;33m[\u001b[0m\u001b[1;34m\"first_month\"\u001b[0m\u001b[1;33m]\u001b[0m \u001b[1;33m=\u001b[0m \u001b[0mtest\u001b[0m\u001b[1;33m.\u001b[0m\u001b[0mloc\u001b[0m\u001b[1;33m[\u001b[0m\u001b[1;33m:\u001b[0m\u001b[1;33m,\u001b[0m\u001b[1;34m'first_active_month'\u001b[0m\u001b[1;33m]\u001b[0m\u001b[1;33m.\u001b[0m\u001b[0mapply\u001b[0m\u001b[1;33m(\u001b[0m\u001b[1;32mlambda\u001b[0m \u001b[0mx\u001b[0m\u001b[1;33m:\u001b[0m \u001b[0mint\u001b[0m\u001b[1;33m(\u001b[0m\u001b[0mx\u001b[0m\u001b[1;33m.\u001b[0m\u001b[0msplit\u001b[0m\u001b[1;33m(\u001b[0m\u001b[1;34m\"-\"\u001b[0m\u001b[1;33m)\u001b[0m\u001b[1;33m[\u001b[0m\u001b[1;36m1\u001b[0m\u001b[1;33m]\u001b[0m\u001b[1;33m)\u001b[0m\u001b[1;33m)\u001b[0m\u001b[1;33m\u001b[0m\u001b[0m\n\u001b[0m",
      "\u001b[1;31mAttributeError\u001b[0m: 'float' object has no attribute 'split'"
     ]
    }
   ],
   "source": [
    "test[\"first_month\"] = test.loc[:,'first_active_month'].apply(lambda x: int(x.split(\"-\")[1]))"
   ]
  },
  {
   "cell_type": "code",
   "execution_count": null,
   "metadata": {},
   "outputs": [],
   "source": [
    "train[\"first_year\"] = train.loc[:,'first_active_month'].apply(lambda x: int(x.split(\"-\")[0]))"
   ]
  },
  {
   "cell_type": "code",
   "execution_count": null,
   "metadata": {},
   "outputs": [],
   "source": [
    "def ssn(x):\n",
    "    x = int(x.split(\"-\")[1])\n",
    "    if x in [12,1,2]:\n",
    "        return 0\n",
    "    elif x<6:\n",
    "        return 1\n",
    "    elif x<9:\n",
    "        return 2\n",
    "    else:\n",
    "        return 3"
   ]
  },
  {
   "cell_type": "code",
   "execution_count": null,
   "metadata": {},
   "outputs": [],
   "source": [
    "train[\"first_season\"] = train.loc[:,'first_active_month'].apply(ssn)"
   ]
  },
  {
   "cell_type": "code",
   "execution_count": null,
   "metadata": {},
   "outputs": [],
   "source": [
    "train = train.drop(['first_active_month'],axis = 1)"
   ]
  },
  {
   "cell_type": "code",
   "execution_count": null,
   "metadata": {},
   "outputs": [],
   "source": [
    "train.to_csv(DATA_PATH+r\"train_m.scv\")"
   ]
  },
  {
   "cell_type": "markdown",
   "metadata": {},
   "source": [
    "Discard rows with NaN\n",
    "Change \"authorized_flag\" 'Y' - > 10, 'N' - >1\n",
    "Change \"category_1\"  'Y' - > 1, 'N' - >0\n",
    "Change \"category_3\"  \"A\",\"B\",\"C\" - > 1,2,3\n",
    "Change \"purchase_date\" to numerical\n",
    "SUM log base = \"city_id\" (authorized_flag*category_1*installments*category_3*month_lag*purchase_amount*purchase_date*category_2*state_id*subsector_id)^merchant_category_id"
   ]
  },
  {
   "cell_type": "code",
   "execution_count": null,
   "metadata": {},
   "outputs": [],
   "source": [
    "hist.loc[:,\"subsector_id\"].unique()"
   ]
  },
  {
   "cell_type": "code",
   "execution_count": null,
   "metadata": {},
   "outputs": [],
   "source": [
    "new_merchant.head(10)"
   ]
  },
  {
   "cell_type": "code",
   "execution_count": null,
   "metadata": {},
   "outputs": [],
   "source": [
    "test_m.shape"
   ]
  },
  {
   "cell_type": "code",
   "execution_count": null,
   "metadata": {},
   "outputs": [],
   "source": [
    "train.loc[:,\"first_active_month\"] = train.loc[:,\"first_active_month\"].apply(lambda x: (pd.to_datetime(x,format = \"%Y-%m\")-pd.to_datetime(\"1970-01-01\")).days)"
   ]
  },
  {
   "cell_type": "code",
   "execution_count": null,
   "metadata": {},
   "outputs": [],
   "source": [
    "test.loc[:,\"first_active_month\"] = test.loc[:,\"first_active_month\"].apply(lambda x: (pd.to_datetime(x,format = \"%Y-%m\")-pd.to_datetime(\"1970-01-01\")).days)"
   ]
  },
  {
   "cell_type": "code",
   "execution_count": null,
   "metadata": {},
   "outputs": [],
   "source": [
    "train_m = pd.merge( train, hist, how = \"inner\", on = \"card_id\")\n",
    "#(18030009, 19)\n",
    "#'first_active_month', 'card_id', 'feature_1', 'feature_2', 'feature_3', 'target'\n",
    "#'authorized_flag', 'card_id', 'city_id', 'category_1', 'installments',\n",
    "#'category_3', 'merchant_category_id', 'merchant_id', 'month_lag',\n",
    "#'purchase_amount', 'purchase_date', 'category_2', 'state_id','subsector_id'"
   ]
  },
  {
   "cell_type": "code",
   "execution_count": null,
   "metadata": {},
   "outputs": [],
   "source": [
    "test_m = pd.merge( test, hist, how = \"inner\", on = \"card_id\")\n",
    "#(11082352, 18)\n",
    "#'first_active_month', 'card_id', 'feature_1', 'feature_2', 'feature_3',\n",
    "#'authorized_flag', 'card_id', 'city_id', 'category_1', 'installments',\n",
    "#'category_3', 'merchant_category_id', 'merchant_id', 'month_lag',\n",
    "#'purchase_amount', 'purchase_date', 'category_2', 'state_id','subsector_id'"
   ]
  },
  {
   "cell_type": "code",
   "execution_count": null,
   "metadata": {},
   "outputs": [],
   "source": [
    "train_m.to_csv(DATA_PATH+r\"train_m.csv\")"
   ]
  },
  {
   "cell_type": "code",
   "execution_count": null,
   "metadata": {},
   "outputs": [],
   "source": [
    "test_m.to_csv(DATA_PATH+r\"test_m.csv\")"
   ]
  },
  {
   "cell_type": "code",
   "execution_count": null,
   "metadata": {},
   "outputs": [],
   "source": []
  },
  {
   "cell_type": "code",
   "execution_count": null,
   "metadata": {},
   "outputs": [],
   "source": []
  },
  {
   "cell_type": "code",
   "execution_count": null,
   "metadata": {},
   "outputs": [],
   "source": []
  },
  {
   "cell_type": "code",
   "execution_count": null,
   "metadata": {},
   "outputs": [],
   "source": [
    "part = np.random.rand(len(df_train))<0.7"
   ]
  },
  {
   "cell_type": "code",
   "execution_count": null,
   "metadata": {},
   "outputs": [],
   "source": [
    "valid_m = df_train[~part]"
   ]
  }
 ],
 "metadata": {
  "kernelspec": {
   "display_name": "Python 3",
   "language": "python",
   "name": "python3"
  },
  "language_info": {
   "codemirror_mode": {
    "name": "ipython",
    "version": 3
   },
   "file_extension": ".py",
   "mimetype": "text/x-python",
   "name": "python",
   "nbconvert_exporter": "python",
   "pygments_lexer": "ipython3",
   "version": "3.6.5"
  }
 },
 "nbformat": 4,
 "nbformat_minor": 2
}
