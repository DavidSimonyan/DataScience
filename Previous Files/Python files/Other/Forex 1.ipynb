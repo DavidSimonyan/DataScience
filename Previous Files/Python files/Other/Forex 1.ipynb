{
 "cells": [
  {
   "cell_type": "code",
   "execution_count": 1,
   "metadata": {},
   "outputs": [],
   "source": [
    "import tensorflow as tf\n",
    "from tensorflow.python.client import device_lib\n",
    "import pandas as pd\n",
    "import numpy as np"
   ]
  },
  {
   "cell_type": "code",
   "execution_count": 2,
   "metadata": {},
   "outputs": [],
   "source": [
    "def get_available_gpu_list():\n",
    "    local_device_protos = device_lib.list_local_devices()\n",
    "    return [x.name for x in local_device_protos if x.device_type == 'GPU']"
   ]
  },
  {
   "cell_type": "code",
   "execution_count": 3,
   "metadata": {},
   "outputs": [
    {
     "name": "stdout",
     "output_type": "stream",
     "text": [
      "Wall time: 0 ns\n"
     ]
    },
    {
     "data": {
      "text/plain": [
       "['/device:GPU:0', '/device:GPU:1']"
      ]
     },
     "execution_count": 3,
     "metadata": {},
     "output_type": "execute_result"
    }
   ],
   "source": [
    "%time\n",
    "get_available_gpu_list()"
   ]
  },
  {
   "cell_type": "code",
   "execution_count": 4,
   "metadata": {},
   "outputs": [],
   "source": [
    "DATA_PATH = \"D:/Data/Forex/\""
   ]
  },
  {
   "cell_type": "code",
   "execution_count": 5,
   "metadata": {},
   "outputs": [],
   "source": [
    "float32_cols = ['Open', 'High', 'Low', 'Close']\n",
    "int32_cols = ['Volume', 'NumberOfTrades', 'BidVolume', 'AskVolume']"
   ]
  },
  {
   "cell_type": "code",
   "execution_count": 6,
   "metadata": {},
   "outputs": [],
   "source": [
    "df_usdcad = pd.read_csv(\n",
    "    DATA_PATH + \"USDCAD.csv\",\n",
    "    header=0,\n",
    "    names=['Date', 'Time', *float32_cols, *int32_cols],\n",
    "    dtype={**{col: np.float32 for col in float32_cols},\n",
    "           **{col: np.int32 for col in int32_cols}})"
   ]
  },
  {
   "cell_type": "code",
   "execution_count": 7,
   "metadata": {},
   "outputs": [],
   "source": [
    "df_eurusd = pd.read_csv(\n",
    "    DATA_PATH + \"EURUSD.csv\",\n",
    "    header=0,\n",
    "    names=['Date', 'Time', *float32_cols, *int32_cols],\n",
    "    dtype={**{col: np.float32 for col in float32_cols},\n",
    "           **{col: np.int32 for col in int32_cols}})"
   ]
  },
  {
   "cell_type": "code",
   "execution_count": 8,
   "metadata": {
    "scrolled": true
   },
   "outputs": [
    {
     "name": "stdout",
     "output_type": "stream",
     "text": [
      "(72274072, 10)\n",
      "(82332324, 10)\n"
     ]
    }
   ],
   "source": [
    "print(df_usdcad.shape)\n",
    "print(df_eurusd.shape)"
   ]
  },
  {
   "cell_type": "code",
   "execution_count": 9,
   "metadata": {
    "collapsed": true
   },
   "outputs": [
    {
     "name": "stdout",
     "output_type": "stream",
     "text": [
      "<class 'pandas.core.frame.DataFrame'>\n",
      "RangeIndex: 72274072 entries, 0 to 72274071\n",
      "Data columns (total 10 columns):\n",
      "Date              object\n",
      "Time              object\n",
      "Open              float32\n",
      "High              float32\n",
      "Low               float32\n",
      "Close             float32\n",
      "Volume            int32\n",
      "NumberOfTrades    int32\n",
      "BidVolume         int32\n",
      "AskVolume         int32\n",
      "dtypes: float32(4), int32(4), object(2)\n",
      "memory usage: 3.2+ GB\n",
      "None\n",
      "<class 'pandas.core.frame.DataFrame'>\n",
      "RangeIndex: 82332324 entries, 0 to 82332323\n",
      "Data columns (total 10 columns):\n",
      "Date              object\n",
      "Time              object\n",
      "Open              float32\n",
      "High              float32\n",
      "Low               float32\n",
      "Close             float32\n",
      "Volume            int32\n",
      "NumberOfTrades    int32\n",
      "BidVolume         int32\n",
      "AskVolume         int32\n",
      "dtypes: float32(4), int32(4), object(2)\n",
      "memory usage: 3.7+ GB\n",
      "None\n"
     ]
    }
   ],
   "source": [
    "print(df_usdcad.info())\n",
    "print(df_eurusd.info())"
   ]
  },
  {
   "cell_type": "code",
   "execution_count": 10,
   "metadata": {},
   "outputs": [],
   "source": [
    "df_usdcad[\"DateTime\"] = df_usdcad[\"Date\"] + df_usdcad[\"Time\"]\n",
    "df_eurusd[\"DateTime\"] = df_eurusd[\"Date\"] + df_eurusd[\"Time\"]\n",
    "\n",
    "df_usdcad.drop([\"Date\", \"Time\"], axis=1, inplace=True)\n",
    "df_eurusd.drop([\"Date\", \"Time\"], axis=1, inplace=True)\n",
    "\n",
    "df_usdcad['DateTime'] = pd.to_datetime(df_usdcad['DateTime'], format='%Y/%m/%d %H:%M:%S')\n",
    "df_eurusd['DateTime'] = pd.to_datetime(df_eurusd['DateTime'], format='%Y/%m/%d %H:%M:%S')"
   ]
  },
  {
   "cell_type": "code",
   "execution_count": 11,
   "metadata": {},
   "outputs": [
    {
     "data": {
      "text/html": [
       "<div>\n",
       "<style scoped>\n",
       "    .dataframe tbody tr th:only-of-type {\n",
       "        vertical-align: middle;\n",
       "    }\n",
       "\n",
       "    .dataframe tbody tr th {\n",
       "        vertical-align: top;\n",
       "    }\n",
       "\n",
       "    .dataframe thead th {\n",
       "        text-align: right;\n",
       "    }\n",
       "</style>\n",
       "<table border=\"1\" class=\"dataframe\">\n",
       "  <thead>\n",
       "    <tr style=\"text-align: right;\">\n",
       "      <th></th>\n",
       "      <th>Open</th>\n",
       "      <th>High</th>\n",
       "      <th>Low</th>\n",
       "      <th>Close</th>\n",
       "      <th>Volume</th>\n",
       "      <th>NumberOfTrades</th>\n",
       "      <th>BidVolume</th>\n",
       "      <th>AskVolume</th>\n",
       "      <th>DateTime</th>\n",
       "    </tr>\n",
       "  </thead>\n",
       "  <tbody>\n",
       "    <tr>\n",
       "      <th>0</th>\n",
       "      <td>1.00261</td>\n",
       "      <td>1.00264</td>\n",
       "      <td>1.00261</td>\n",
       "      <td>1.00264</td>\n",
       "      <td>2</td>\n",
       "      <td>2</td>\n",
       "      <td>0</td>\n",
       "      <td>0</td>\n",
       "      <td>2007-12-03 09:17:13</td>\n",
       "    </tr>\n",
       "    <tr>\n",
       "      <th>1</th>\n",
       "      <td>1.00258</td>\n",
       "      <td>1.00258</td>\n",
       "      <td>1.00249</td>\n",
       "      <td>1.00250</td>\n",
       "      <td>3</td>\n",
       "      <td>3</td>\n",
       "      <td>0</td>\n",
       "      <td>0</td>\n",
       "      <td>2007-12-03 09:17:21</td>\n",
       "    </tr>\n",
       "    <tr>\n",
       "      <th>2</th>\n",
       "      <td>1.00264</td>\n",
       "      <td>1.00264</td>\n",
       "      <td>1.00251</td>\n",
       "      <td>1.00251</td>\n",
       "      <td>3</td>\n",
       "      <td>3</td>\n",
       "      <td>0</td>\n",
       "      <td>0</td>\n",
       "      <td>2007-12-03 09:17:24</td>\n",
       "    </tr>\n",
       "    <tr>\n",
       "      <th>3</th>\n",
       "      <td>1.00250</td>\n",
       "      <td>1.00264</td>\n",
       "      <td>1.00250</td>\n",
       "      <td>1.00264</td>\n",
       "      <td>5</td>\n",
       "      <td>5</td>\n",
       "      <td>0</td>\n",
       "      <td>0</td>\n",
       "      <td>2007-12-03 09:17:28</td>\n",
       "    </tr>\n",
       "    <tr>\n",
       "      <th>4</th>\n",
       "      <td>1.00267</td>\n",
       "      <td>1.00267</td>\n",
       "      <td>1.00267</td>\n",
       "      <td>1.00267</td>\n",
       "      <td>1</td>\n",
       "      <td>1</td>\n",
       "      <td>0</td>\n",
       "      <td>0</td>\n",
       "      <td>2007-12-03 09:17:35</td>\n",
       "    </tr>\n",
       "  </tbody>\n",
       "</table>\n",
       "</div>"
      ],
      "text/plain": [
       "      Open     High      Low    Close  Volume  NumberOfTrades  BidVolume  \\\n",
       "0  1.00261  1.00264  1.00261  1.00264       2               2          0   \n",
       "1  1.00258  1.00258  1.00249  1.00250       3               3          0   \n",
       "2  1.00264  1.00264  1.00251  1.00251       3               3          0   \n",
       "3  1.00250  1.00264  1.00250  1.00264       5               5          0   \n",
       "4  1.00267  1.00267  1.00267  1.00267       1               1          0   \n",
       "\n",
       "   AskVolume            DateTime  \n",
       "0          0 2007-12-03 09:17:13  \n",
       "1          0 2007-12-03 09:17:21  \n",
       "2          0 2007-12-03 09:17:24  \n",
       "3          0 2007-12-03 09:17:28  \n",
       "4          0 2007-12-03 09:17:35  "
      ]
     },
     "execution_count": 11,
     "metadata": {},
     "output_type": "execute_result"
    }
   ],
   "source": [
    "df_usdcad.head()"
   ]
  },
  {
   "cell_type": "code",
   "execution_count": 12,
   "metadata": {},
   "outputs": [
    {
     "data": {
      "text/html": [
       "<div>\n",
       "<style scoped>\n",
       "    .dataframe tbody tr th:only-of-type {\n",
       "        vertical-align: middle;\n",
       "    }\n",
       "\n",
       "    .dataframe tbody tr th {\n",
       "        vertical-align: top;\n",
       "    }\n",
       "\n",
       "    .dataframe thead th {\n",
       "        text-align: right;\n",
       "    }\n",
       "</style>\n",
       "<table border=\"1\" class=\"dataframe\">\n",
       "  <thead>\n",
       "    <tr style=\"text-align: right;\">\n",
       "      <th></th>\n",
       "      <th>Open</th>\n",
       "      <th>High</th>\n",
       "      <th>Low</th>\n",
       "      <th>Close</th>\n",
       "      <th>Volume</th>\n",
       "      <th>NumberOfTrades</th>\n",
       "      <th>BidVolume</th>\n",
       "      <th>AskVolume</th>\n",
       "      <th>DateTime</th>\n",
       "    </tr>\n",
       "  </thead>\n",
       "  <tbody>\n",
       "    <tr>\n",
       "      <th>0</th>\n",
       "      <td>1.46351</td>\n",
       "      <td>1.46354</td>\n",
       "      <td>1.46351</td>\n",
       "      <td>1.46354</td>\n",
       "      <td>2</td>\n",
       "      <td>2</td>\n",
       "      <td>0</td>\n",
       "      <td>0</td>\n",
       "      <td>2007-12-03 09:16:54</td>\n",
       "    </tr>\n",
       "    <tr>\n",
       "      <th>1</th>\n",
       "      <td>1.46351</td>\n",
       "      <td>1.46351</td>\n",
       "      <td>1.46347</td>\n",
       "      <td>1.46347</td>\n",
       "      <td>3</td>\n",
       "      <td>3</td>\n",
       "      <td>0</td>\n",
       "      <td>0</td>\n",
       "      <td>2007-12-03 09:16:56</td>\n",
       "    </tr>\n",
       "    <tr>\n",
       "      <th>2</th>\n",
       "      <td>1.46354</td>\n",
       "      <td>1.46354</td>\n",
       "      <td>1.46354</td>\n",
       "      <td>1.46354</td>\n",
       "      <td>1</td>\n",
       "      <td>1</td>\n",
       "      <td>0</td>\n",
       "      <td>0</td>\n",
       "      <td>2007-12-03 09:17:01</td>\n",
       "    </tr>\n",
       "    <tr>\n",
       "      <th>3</th>\n",
       "      <td>1.46346</td>\n",
       "      <td>1.46347</td>\n",
       "      <td>1.46344</td>\n",
       "      <td>1.46344</td>\n",
       "      <td>3</td>\n",
       "      <td>3</td>\n",
       "      <td>0</td>\n",
       "      <td>0</td>\n",
       "      <td>2007-12-03 09:17:04</td>\n",
       "    </tr>\n",
       "    <tr>\n",
       "      <th>4</th>\n",
       "      <td>1.46347</td>\n",
       "      <td>1.46347</td>\n",
       "      <td>1.46338</td>\n",
       "      <td>1.46344</td>\n",
       "      <td>5</td>\n",
       "      <td>5</td>\n",
       "      <td>0</td>\n",
       "      <td>0</td>\n",
       "      <td>2007-12-03 09:17:08</td>\n",
       "    </tr>\n",
       "  </tbody>\n",
       "</table>\n",
       "</div>"
      ],
      "text/plain": [
       "      Open     High      Low    Close  Volume  NumberOfTrades  BidVolume  \\\n",
       "0  1.46351  1.46354  1.46351  1.46354       2               2          0   \n",
       "1  1.46351  1.46351  1.46347  1.46347       3               3          0   \n",
       "2  1.46354  1.46354  1.46354  1.46354       1               1          0   \n",
       "3  1.46346  1.46347  1.46344  1.46344       3               3          0   \n",
       "4  1.46347  1.46347  1.46338  1.46344       5               5          0   \n",
       "\n",
       "   AskVolume            DateTime  \n",
       "0          0 2007-12-03 09:16:54  \n",
       "1          0 2007-12-03 09:16:56  \n",
       "2          0 2007-12-03 09:17:01  \n",
       "3          0 2007-12-03 09:17:04  \n",
       "4          0 2007-12-03 09:17:08  "
      ]
     },
     "execution_count": 12,
     "metadata": {},
     "output_type": "execute_result"
    }
   ],
   "source": [
    "df_eurusd.head()"
   ]
  },
  {
   "cell_type": "code",
   "execution_count": 13,
   "metadata": {
    "collapsed": true
   },
   "outputs": [
    {
     "name": "stdout",
     "output_type": "stream",
     "text": [
      "<class 'pandas.core.frame.DataFrame'>\n",
      "RangeIndex: 72274072 entries, 0 to 72274071\n",
      "Data columns (total 9 columns):\n",
      "Open              float32\n",
      "High              float32\n",
      "Low               float32\n",
      "Close             float32\n",
      "Volume            int32\n",
      "NumberOfTrades    int32\n",
      "BidVolume         int32\n",
      "AskVolume         int32\n",
      "DateTime          datetime64[ns]\n",
      "dtypes: datetime64[ns](1), float32(4), int32(4)\n",
      "memory usage: 2.7 GB\n",
      "None\n",
      "<class 'pandas.core.frame.DataFrame'>\n",
      "RangeIndex: 82332324 entries, 0 to 82332323\n",
      "Data columns (total 9 columns):\n",
      "Open              float32\n",
      "High              float32\n",
      "Low               float32\n",
      "Close             float32\n",
      "Volume            int32\n",
      "NumberOfTrades    int32\n",
      "BidVolume         int32\n",
      "AskVolume         int32\n",
      "DateTime          datetime64[ns]\n",
      "dtypes: datetime64[ns](1), float32(4), int32(4)\n",
      "memory usage: 3.1 GB\n",
      "None\n"
     ]
    }
   ],
   "source": [
    "print(df_usdcad.info())\n",
    "print(df_eurusd.info())"
   ]
  },
  {
   "cell_type": "code",
   "execution_count": 14,
   "metadata": {
    "scrolled": true
   },
   "outputs": [],
   "source": [
    "df_usdcad.to_hdf(\"D:/Data/Forex/USDCAD_modified.h5\", key=\"USDCAD_modified\", mode='w', format='fixed')\n",
    "df_eurusd.to_hdf(\"D:/Data/Forex/EURUSD_modified.h5\", key=\"EURUSD_modified\", mode='w', format='fixed')"
   ]
  },
  {
   "cell_type": "code",
   "execution_count": null,
   "metadata": {},
   "outputs": [],
   "source": []
  }
 ],
 "metadata": {
  "kernelspec": {
   "display_name": "Python 3",
   "language": "python",
   "name": "python3"
  },
  "language_info": {
   "codemirror_mode": {
    "name": "ipython",
    "version": 3
   },
   "file_extension": ".py",
   "mimetype": "text/x-python",
   "name": "python",
   "nbconvert_exporter": "python",
   "pygments_lexer": "ipython3",
   "version": "3.6.8"
  }
 },
 "nbformat": 4,
 "nbformat_minor": 2
}
